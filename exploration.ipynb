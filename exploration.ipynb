{
 "cells": [
  {
   "cell_type": "code",
   "execution_count": 25,
   "metadata": {},
   "outputs": [],
   "source": [
    "import pandas as pd\n",
    "import os\n",
    "from datetime import date, datetime"
   ]
  },
  {
   "cell_type": "code",
   "execution_count": 26,
   "metadata": {},
   "outputs": [],
   "source": [
    "tests_and_deaths_raw = pd.read_csv(os.getcwd() + r'\\data\\raw\\COVID-19_Cases__Tests__and_Deaths_by_ZIP_Code.csv')\n",
    "vaccinations_raw = pd.read_csv(os.getcwd() + r'\\data\\raw\\COVID-19_Vaccinations_by_ZIP_Code.csv')"
   ]
  },
  {
   "cell_type": "code",
   "execution_count": 27,
   "metadata": {},
   "outputs": [],
   "source": [
    "tests_and_deaths_raw['Year-Week'] = pd.to_datetime(tests_and_deaths_raw['Week Start'], format='%m/%d/%Y').dt.year.astype(\"string\") +'-'+ tests_and_deaths_raw['Week Number'].astype(\"string\") \n",
    "tests_and_deaths_raw = tests_and_deaths_raw.rename(columns={'ZIP Code': 'Zip Code'}).set_index(['Zip Code', 'Year-Week'])"
   ]
  },
  {
   "cell_type": "code",
   "execution_count": 28,
   "metadata": {},
   "outputs": [],
   "source": [
    "vaccinations_raw['Week Number'] = pd.to_datetime(vaccinations_raw['Date'], format='%m/%d/%Y').dt.isocalendar().week\n",
    "vaccinations_raw['Year'] = pd.to_datetime(vaccinations_raw['Date'], format='%m/%d/%Y').dt.year\n",
    "vaccinations_raw['Year-Week'] = vaccinations_raw['Year'].astype(\"string\") +'-'+ vaccinations_raw['Week Number'].astype(\"string\")"
   ]
  },
  {
   "cell_type": "code",
   "execution_count": 29,
   "metadata": {},
   "outputs": [],
   "source": [
    "vaccination_weekly_df = (vaccinations_raw[['Zip Code', 'Year-Week', 'Total Doses - Daily', '1st Dose - Daily', \n",
    "                                           'Vaccine Series Completed - Daily', 'Total Doses - Daily - Age 5+', \n",
    "                                           'Total Doses - Daily - Age 12+', 'Total Doses - Daily - Age 18+', \n",
    "                                           'Total Doses - Daily - Age 65+', '1st Dose - Daily - Age 5+', '1st Dose - Daily - Age 12+', \n",
    "                                           '1st Dose - Daily - Age 18+', '1st Dose - Daily - Age 65+', \n",
    "                                           'Vaccine Series Completed - Daily - Age 5+', 'Vaccine Series Completed - Daily - Age 12+', \n",
    "                                           'Vaccine Series Completed - Daily - Age 18+', 'Vaccine Series Completed - Daily - Age 65+']]\n",
    "                        .groupby(['Zip Code', 'Year-Week']).sum())"
   ]
  },
  {
   "cell_type": "code",
   "execution_count": 30,
   "metadata": {},
   "outputs": [],
   "source": [
    "vaccination_weekly_cumilative_df = (vaccinations_raw[['Zip Code', 'Year-Week', 'Total Doses - Cumulative', '1st Dose - Cumulative',\n",
    "                                                      '1st Dose - Percent Population', 'Vaccine Series Completed - Cumulative', \n",
    "                                                      'Vaccine Series Completed  - Percent Population']]\n",
    "                                    .groupby(['Zip Code', 'Year-Week']).max())"
   ]
  },
  {
   "cell_type": "code",
   "execution_count": 31,
   "metadata": {},
   "outputs": [],
   "source": [
    "vaccination_weekly_merged_df = vaccination_weekly_df.join(vaccination_weekly_cumilative_df, how='inner')"
   ]
  },
  {
   "cell_type": "code",
   "execution_count": 39,
   "metadata": {},
   "outputs": [
    {
     "data": {
      "text/plain": [
       "Index(['Total Doses - Daily', '1st Dose - Daily',\n",
       "       'Vaccine Series Completed - Daily', 'Total Doses - Daily - Age 5+',\n",
       "       'Total Doses - Daily - Age 12+', 'Total Doses - Daily - Age 18+',\n",
       "       'Total Doses - Daily - Age 65+', '1st Dose - Daily - Age 5+',\n",
       "       '1st Dose - Daily - Age 12+', '1st Dose - Daily - Age 18+',\n",
       "       '1st Dose - Daily - Age 65+',\n",
       "       'Vaccine Series Completed - Daily - Age 5+',\n",
       "       'Vaccine Series Completed - Daily - Age 12+',\n",
       "       'Vaccine Series Completed - Daily - Age 18+',\n",
       "       'Vaccine Series Completed - Daily - Age 65+',\n",
       "       'Total Doses - Cumulative', '1st Dose - Cumulative',\n",
       "       '1st Dose - Percent Population',\n",
       "       'Vaccine Series Completed - Cumulative',\n",
       "       'Vaccine Series Completed  - Percent Population'],\n",
       "      dtype='object')"
      ]
     },
     "execution_count": 39,
     "metadata": {},
     "output_type": "execute_result"
    }
   ],
   "source": [
    "vaccination_weekly_merged_df.columns"
   ]
  },
  {
   "cell_type": "code",
   "execution_count": 33,
   "metadata": {},
   "outputs": [],
   "source": [
    "combined_dataset = tests_and_deaths_raw.join(vaccination_weekly_merged_df, on=['Zip Code', 'Year-Week'], how='left').fillna(0)"
   ]
  },
  {
   "cell_type": "code",
   "execution_count": 34,
   "metadata": {},
   "outputs": [],
   "source": [
    "combined_dataset = combined_dataset.reset_index()"
   ]
  },
  {
   "cell_type": "code",
   "execution_count": 35,
   "metadata": {},
   "outputs": [],
   "source": [
    "combined_dataset = combined_dataset[combined_dataset['Zip Code'] != 'Unknown']"
   ]
  },
  {
   "cell_type": "code",
   "execution_count": 37,
   "metadata": {},
   "outputs": [],
   "source": [
    "combined_dataset.to_csv('data/processed/combined_dataset.csv')"
   ]
  },
  {
   "cell_type": "code",
   "execution_count": 38,
   "metadata": {},
   "outputs": [
    {
     "data": {
      "text/plain": [
       "Index(['Zip Code', 'Year-Week', 'Week Number', 'Week Start', 'Week End',\n",
       "       'Cases - Weekly', 'Cases - Cumulative', 'Case Rate - Weekly',\n",
       "       'Case Rate - Cumulative', 'Tests - Weekly', 'Tests - Cumulative',\n",
       "       'Test Rate - Weekly', 'Test Rate - Cumulative',\n",
       "       'Percent Tested Positive - Weekly',\n",
       "       'Percent Tested Positive - Cumulative', 'Deaths - Weekly',\n",
       "       'Deaths - Cumulative', 'Death Rate - Weekly', 'Death Rate - Cumulative',\n",
       "       'Population', 'Row ID', 'ZIP Code Location', 'Total Doses - Daily',\n",
       "       '1st Dose - Daily', 'Vaccine Series Completed - Daily',\n",
       "       'Total Doses - Daily - Age 5+', 'Total Doses - Daily - Age 12+',\n",
       "       'Total Doses - Daily - Age 18+', 'Total Doses - Daily - Age 65+',\n",
       "       '1st Dose - Daily - Age 5+', '1st Dose - Daily - Age 12+',\n",
       "       '1st Dose - Daily - Age 18+', '1st Dose - Daily - Age 65+',\n",
       "       'Vaccine Series Completed - Daily - Age 5+',\n",
       "       'Vaccine Series Completed - Daily - Age 12+',\n",
       "       'Vaccine Series Completed - Daily - Age 18+',\n",
       "       'Vaccine Series Completed - Daily - Age 65+',\n",
       "       'Total Doses - Cumulative', '1st Dose - Cumulative',\n",
       "       '1st Dose - Percent Population',\n",
       "       'Vaccine Series Completed - Cumulative',\n",
       "       'Vaccine Series Completed  - Percent Population'],\n",
       "      dtype='object')"
      ]
     },
     "execution_count": 38,
     "metadata": {},
     "output_type": "execute_result"
    }
   ],
   "source": [
    "combined_dataset[['Year-Week']]"
   ]
  },
  {
   "cell_type": "code",
   "execution_count": null,
   "metadata": {},
   "outputs": [],
   "source": []
  }
 ],
 "metadata": {
  "interpreter": {
   "hash": "afd5ea9e84cb9badce2ada76c6f43b366f3922399d6b57d4ec852c9a591cc1f2"
  },
  "kernelspec": {
   "display_name": "Python 3.9.5 64-bit",
   "language": "python",
   "name": "python3"
  },
  "language_info": {
   "codemirror_mode": {
    "name": "ipython",
    "version": 3
   },
   "file_extension": ".py",
   "mimetype": "text/x-python",
   "name": "python",
   "nbconvert_exporter": "python",
   "pygments_lexer": "ipython3",
   "version": "3.9.5"
  },
  "orig_nbformat": 4
 },
 "nbformat": 4,
 "nbformat_minor": 2
}
